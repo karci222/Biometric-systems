{
 "cells": [
  {
   "cell_type": "code",
   "execution_count": 4,
   "metadata": {},
   "outputs": [],
   "source": [
    "\"\"\"\n",
    "In this example we load an image and find all the faces in it.s\n",
    "\"\"\"\n",
    "\n",
    "import face_recognition\n",
    "import PIL.Image"
   ]
  },
  {
   "cell_type": "code",
   "execution_count": 5,
   "metadata": {},
   "outputs": [],
   "source": [
    "#Loads an image file\n",
    "image = face_recognition.load_image_file(\"Yagoslaw.jpg\")"
   ]
  },
  {
   "cell_type": "code",
   "execution_count": 6,
   "metadata": {},
   "outputs": [],
   "source": [
    "\"\"\"\n",
    "Searchng for face locations\n",
    "\"\"\"\n",
    "face_locations=face_recognition.face_locations(image)"
   ]
  },
  {
   "cell_type": "code",
   "execution_count": 7,
   "metadata": {},
   "outputs": [],
   "source": [
    "\"\"\"\n",
    "Draws squares around\n",
    "an image with recognized\n",
    "faces.\n",
    "\"\"\"\n",
    "for i in face_locations:\n",
    "    y1 = i[0]\n",
    "    y2 = i[2]\n",
    "    x2 = i[1]\n",
    "    x1 = i[3]\n",
    "    j = abs(x1-x2)\n",
    "    k = x1\n",
    "    n = 0\n",
    "    while (n < j):\n",
    "        image[y1][k] = (0,0,0)\n",
    "        image[y1+1][k] = (0,0,0)\n",
    "        image[y1+2][k] = (0,0,0)\n",
    "        image[y1-1][k] = (0,0,0)\n",
    "        image[y1-2][k] = (0,0,0)\n",
    "        image[y2][k] = (0,0,0)\n",
    "        image[y2+1][k] = (0,0,0)\n",
    "        image[y2+2][k] = (0,0,0)\n",
    "        image[y2-1][k] = (0,0,0)\n",
    "        image[y2-2][k] = (0,0,0)\n",
    "        n = n + 1\n",
    "        k = k + 1\n",
    "    j = abs(y1-y2)\n",
    "    k = y1\n",
    "    n = 0\n",
    "    while (n < j):\n",
    "        image[k][x1] = (0,0,0)\n",
    "        image[k][x1+1] = (0,0,0)\n",
    "        image[k][x1+2] = (0,0,0)\n",
    "        image[k][x1-1] = (0,0,0)\n",
    "        image[k][x1-2] = (0,0,0)\n",
    "        image[k][x2] = (0,0,0)\n",
    "        image[k][x2+1] = (0,0,0)\n",
    "        image[k][x2+2] = (0,0,0)\n",
    "        image[k][x2-1] = (0,0,0)\n",
    "        image[k][x2-2] = (0,0,0)\n",
    "        n = n + 1\n",
    "        k = k + 1"
   ]
  },
  {
   "cell_type": "code",
   "execution_count": 8,
   "metadata": {},
   "outputs": [],
   "source": [
    "\"\"\"\n",
    "Creates an image from the array\n",
    "\"\"\"\n",
    "image2=PIL.Image.fromarray(image)"
   ]
  },
  {
   "cell_type": "code",
   "execution_count": 10,
   "metadata": {},
   "outputs": [],
   "source": [
    "\"\"\"\n",
    "Saves the image\n",
    "\"\"\"\n",
    "image2.save(\"detected.jpg\")"
   ]
  },
  {
   "cell_type": "code",
   "execution_count": 8,
   "metadata": {},
   "outputs": [
    {
     "data": {
      "text/plain": [
       "[False, True, True, True, True, True, True, True, True]"
      ]
     },
     "execution_count": 8,
     "metadata": {},
     "output_type": "execute_result"
    }
   ],
   "source": []
  },
  {
   "cell_type": "code",
   "execution_count": null,
   "metadata": {},
   "outputs": [],
   "source": []
  }
 ],
 "metadata": {
  "kernelspec": {
   "display_name": "Python 2",
   "language": "python",
   "name": "python2"
  },
  "language_info": {
   "codemirror_mode": {
    "name": "ipython",
    "version": 2
   },
   "file_extension": ".py",
   "mimetype": "text/x-python",
   "name": "python",
   "nbconvert_exporter": "python",
   "pygments_lexer": "ipython2",
   "version": "2.7.15"
  },
  "widgets": {
   "state": {},
   "version": "1.1.2"
  }
 },
 "nbformat": 4,
 "nbformat_minor": 2
}
