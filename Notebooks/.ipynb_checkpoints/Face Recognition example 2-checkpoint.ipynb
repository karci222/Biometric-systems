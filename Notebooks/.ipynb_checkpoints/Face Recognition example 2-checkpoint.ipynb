{
 "cells": [
  {
   "cell_type": "code",
   "execution_count": 1,
   "metadata": {},
   "outputs": [],
   "source": [
    "\"\"\"\n",
    "In this example we load bunch of images of a person,\n",
    "we then encode them, in the next step we load an image of two unknown persons and\n",
    "compare them with the set of images.\n",
    "\"\"\"\n",
    "\n",
    "import face_recognition\n",
    "import PIL.Image"
   ]
  },
  {
   "cell_type": "code",
   "execution_count": null,
   "metadata": {},
   "outputs": [],
   "source": [
    "\"\"\"\n",
    "Loads face images\n",
    "\"\"\"\n",
    "known_image = face_recognition.load_image_file(\"./Test/Karol1.jpg\")\n",
    "known_image2 = face_recognition.load_image_file(\"./Test/Karol2.jpg\")\n",
    "known_image3 = face_recognition.load_image_file(\"./Test/Karol3.jpg\")\n",
    "known_image4 = face_recognition.load_image_file(\"./Test/Karol4.jpg\")\n",
    "known_image5 = face_recognition.load_image_file(\"./Test/Karol5.jpg\")\n",
    "known_image6 = face_recognition.load_image_file(\"./Test/Karol6.jpg\")\n",
    "known_image7 = face_recognition.load_image_file(\"./Test/Karol7.jpg\")\n",
    "known_image8 = face_recognition.load_image_file(\"./Test/Karol8.jpg\")\n",
    "known_image9 = face_recognition.load_image_file(\"./Test/Karol9.jpg\")\n",
    "known_image10 = face_recognition.load_image_file(\"./Test/Karol10.jpg\")\n",
    "unknown_image1 = face_recognition.load_image_file(\"Karol1.jpg\")\n",
    "unknown_image2 = face_recognition.load_image_file(\"Einstein1.jpg\")\n",
    "\n",
    "\"\"\"\n",
    "performs encodings on the pictures and searches for found faces\n",
    "\"\"\"\n",
    "known_image_encoding = face_recognition.face_encodings(known_image)[0]\n",
    "#known_image_encoding2 = face_recognition.face_encodings(known_image2)[0] could not find a face.\n",
    "known_image_encoding3 = face_recognition.face_encodings(known_image3)[0]\n",
    "known_image_encoding4 = face_recognition.face_encodings(known_image4)[0]\n",
    "known_image_encoding5 = face_recognition.face_encodings(known_image5)[0]\n",
    "known_image_encoding6 = face_recognition.face_encodings(known_image6)[0]\n",
    "known_image_encoding7 = face_recognition.face_encodings(known_image7)[0]\n",
    "known_image_encoding8 = face_recognition.face_encodings(known_image8)[0]\n",
    "known_image_encoding9 = face_recognition.face_encodings(known_image9)[0]\n",
    "known_image_encoding10 = face_recognition.face_encodings(known_image10)[0]\n",
    "\n",
    "unknown_image1_encoding = face_recognition.face_encodings(unknown_image1)[0]\n",
    "unknown_image2_encoding = face_recognition.face_encodings(unknown_image2)[0]\n",
    "\n",
    "\"\"\"\n",
    "creates a list of all encodings\n",
    "\"\"\"\n",
    "list1 = []\n",
    "list1.append(known_image_encoding)\n",
    "list1.append(known_image_encoding3)\n",
    "list1.append(known_image_encoding4)\n",
    "list1.append(known_image_encoding5)\n",
    "list1.append(known_image_encoding6)\n",
    "list1.append(known_image_encoding7)\n",
    "list1.append(known_image_encoding8)\n",
    "list1.append(known_image_encoding9)\n",
    "list1.append(known_image_encoding10)\n",
    "\n",
    "#([known_image_encoding, known_image_encoding3, known_image_encoding4, known_image_encoding5, , known_image_encoding6, known_image_encoding7, known_image_encoding8, known_image_encoding9, known_image_encoding10])\n",
    "\n",
    "results1 = face_recognition.compare_faces(list1, unknown_image1_encoding)\n",
    "results2 = face_recognition.compare_faces(list1, unknown_image2_encoding)"
   ]
  },
  {
   "cell_type": "code",
   "execution_count": null,
   "metadata": {},
   "outputs": [],
   "source": [
    "results1"
   ]
  },
  {
   "cell_type": "code",
   "execution_count": null,
   "metadata": {},
   "outputs": [],
   "source": [
    "results2"
   ]
  },
  {
   "cell_type": "code",
   "execution_count": null,
   "metadata": {},
   "outputs": [],
   "source": []
  }
 ],
 "metadata": {
  "kernelspec": {
   "display_name": "Python 2",
   "language": "python",
   "name": "python2"
  },
  "language_info": {
   "codemirror_mode": {
    "name": "ipython",
    "version": 2
   },
   "file_extension": ".py",
   "mimetype": "text/x-python",
   "name": "python",
   "nbconvert_exporter": "python",
   "pygments_lexer": "ipython2",
   "version": "2.7.15"
  },
  "widgets": {
   "state": {},
   "version": "1.1.2"
  }
 },
 "nbformat": 4,
 "nbformat_minor": 2
}
